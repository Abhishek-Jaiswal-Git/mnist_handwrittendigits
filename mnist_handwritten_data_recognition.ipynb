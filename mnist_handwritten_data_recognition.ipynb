{
  "nbformat": 4,
  "nbformat_minor": 0,
  "metadata": {
    "colab": {
      "name": "mnist_handwritten_data_recognition.ipynb",
      "provenance": [],
      "toc_visible": true,
      "authorship_tag": "ABX9TyPw2lmbhFzIfOOXMC9sGpgz",
      "include_colab_link": true
    },
    "kernelspec": {
      "name": "python3",
      "display_name": "Python 3"
    }
  },
  "cells": [
    {
      "cell_type": "markdown",
      "metadata": {
        "id": "view-in-github",
        "colab_type": "text"
      },
      "source": [
        "<a href=\"https://colab.research.google.com/github/abhi6698/mnist_handwrittendigits/blob/master/mnist_handwritten_data_recognition.ipynb\" target=\"_parent\"><img src=\"https://colab.research.google.com/assets/colab-badge.svg\" alt=\"Open In Colab\"/></a>"
      ]
    },
    {
      "cell_type": "code",
      "metadata": {
        "id": "h4_H66lwQvPe",
        "colab_type": "code",
        "colab": {}
      },
      "source": [
        "import tensorflow as tf\n",
        "from os import path, getcwd, chdir\n"
      ],
      "execution_count": 42,
      "outputs": []
    },
    {
      "cell_type": "code",
      "metadata": {
        "id": "uwBU6-55Q1YZ",
        "colab_type": "code",
        "colab": {}
      },
      "source": [
        "path = f\"{getcwd()}/../tmp2/mnist.npz\""
      ],
      "execution_count": 43,
      "outputs": []
    },
    {
      "cell_type": "code",
      "metadata": {
        "id": "vkVCdVEGQ5It",
        "colab_type": "code",
        "colab": {}
      },
      "source": [
        "def train_mnist_conv():\n",
        "   \n",
        "    class myCallback(tf.keras.callbacks.Callback):\n",
        "        def on_epoch_end(self,epoch,logs={}):\n",
        "            if(logs.get('accuracy')>0.998):\n",
        "                print(\"reached 99.8% accuracy so stop training\")\n",
        "                self.model.stop_training=True\n",
        "    callbacks=myCallback()\n",
        "\n",
        "\n",
        "    mnist = tf.keras.datasets.mnist\n",
        "    (training_images, training_labels), (test_images, test_labels) = mnist.load_data()\n",
        "\n",
        "    training_images=training_images.reshape(60000, 28, 28, 1)\n",
        "    training_images=training_images / 255.0\n",
        "    test_images = test_images.reshape(10000, 28, 28, 1)\n",
        "    test_images=test_images/255.0\n",
        "   \n",
        "\n",
        "    model = tf.keras.models.Sequential([\n",
        "\n",
        "           tf.keras.layers.Conv2D(64, (3,3), activation='relu', input_shape=(28, 28, 1)),\n",
        "           tf.keras.layers.MaxPooling2D(2, 2),\n",
        "           tf.keras.layers.Flatten(),\n",
        "           tf.keras.layers.Dense(128,activation=tf.nn.relu),\n",
        "           tf.keras.layers.Dense(10,activation=tf.nn.softmax)\n",
        "        \n",
        "    ])\n",
        "\n",
        "    model.compile(optimizer='adam', loss='sparse_categorical_crossentropy', metrics=['accuracy'])\n",
        "\n",
        "    history = model.fit(training_images,training_labels,epochs=20,callbacks=[callbacks]\n",
        "        \n",
        "    )\n",
        "\n",
        "    return history.epoch, history.history['accuracy'][-1]\n",
        "    \n",
        "   "
      ],
      "execution_count": 47,
      "outputs": []
    },
    {
      "cell_type": "code",
      "metadata": {
        "id": "hUFQlYbkRAPk",
        "colab_type": "code",
        "colab": {
          "base_uri": "https://localhost:8080/",
          "height": 326
        },
        "outputId": "c29c9ec9-a896-49ef-dd6d-7593e37324ec"
      },
      "source": [
        "_, _ = train_mnist_conv()"
      ],
      "execution_count": 48,
      "outputs": [
        {
          "output_type": "stream",
          "text": [
            "Epoch 1/20\n",
            "1875/1875 [==============================] - 55s 29ms/step - loss: 0.1394 - accuracy: 0.9583\n",
            "Epoch 2/20\n",
            "1875/1875 [==============================] - 55s 29ms/step - loss: 0.0490 - accuracy: 0.9848\n",
            "Epoch 3/20\n",
            "1875/1875 [==============================] - 55s 29ms/step - loss: 0.0316 - accuracy: 0.9902\n",
            "Epoch 4/20\n",
            "1875/1875 [==============================] - 54s 29ms/step - loss: 0.0203 - accuracy: 0.9931\n",
            "Epoch 5/20\n",
            "1875/1875 [==============================] - 55s 29ms/step - loss: 0.0139 - accuracy: 0.9953\n",
            "Epoch 6/20\n",
            "1875/1875 [==============================] - 55s 29ms/step - loss: 0.0089 - accuracy: 0.9973\n",
            "Epoch 7/20\n",
            "1875/1875 [==============================] - 54s 29ms/step - loss: 0.0085 - accuracy: 0.9971\n",
            "Epoch 8/20\n",
            "1874/1875 [============================>.] - ETA: 0s - loss: 0.0057 - accuracy: 0.9982reached 99.8% accuracy so stop training\n",
            "1875/1875 [==============================] - 54s 29ms/step - loss: 0.0057 - accuracy: 0.9982\n"
          ],
          "name": "stdout"
        }
      ]
    },
    {
      "cell_type": "code",
      "metadata": {
        "id": "0RZEyh2FXWRi",
        "colab_type": "code",
        "colab": {}
      },
      "source": [
        ""
      ],
      "execution_count": null,
      "outputs": []
    }
  ]
}